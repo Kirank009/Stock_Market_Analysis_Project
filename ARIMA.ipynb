{
  "nbformat": 4,
  "nbformat_minor": 0,
  "metadata": {
    "colab": {
      "provenance": []
    },
    "kernelspec": {
      "name": "python3",
      "display_name": "Python 3"
    },
    "language_info": {
      "name": "python"
    }
  },
  "cells": [
    {
      "cell_type": "markdown",
      "source": [
        "##Importing Libraries"
      ],
      "metadata": {
        "id": "xB8fpbv5g1lP"
      }
    },
    {
      "cell_type": "code",
      "source": [
        "pip install mpl-finance"
      ],
      "metadata": {
        "colab": {
          "base_uri": "https://localhost:8080/"
        },
        "id": "O2za2xH2DUF8",
        "outputId": "8d888a9c-b478-491a-f86e-8fae0a41e20c"
      },
      "execution_count": null,
      "outputs": [
        {
          "output_type": "stream",
          "name": "stdout",
          "text": [
            "Looking in indexes: https://pypi.org/simple, https://us-python.pkg.dev/colab-wheels/public/simple/\n",
            "Collecting mpl-finance\n",
            "  Downloading mpl_finance-0.10.1-py3-none-any.whl (8.4 kB)\n",
            "Requirement already satisfied: matplotlib in /usr/local/lib/python3.9/dist-packages (from mpl-finance) (3.7.1)\n",
            "Requirement already satisfied: pillow>=6.2.0 in /usr/local/lib/python3.9/dist-packages (from matplotlib->mpl-finance) (8.4.0)\n",
            "Requirement already satisfied: kiwisolver>=1.0.1 in /usr/local/lib/python3.9/dist-packages (from matplotlib->mpl-finance) (1.4.4)\n",
            "Requirement already satisfied: python-dateutil>=2.7 in /usr/local/lib/python3.9/dist-packages (from matplotlib->mpl-finance) (2.8.2)\n",
            "Requirement already satisfied: importlib-resources>=3.2.0 in /usr/local/lib/python3.9/dist-packages (from matplotlib->mpl-finance) (5.12.0)\n",
            "Requirement already satisfied: numpy>=1.20 in /usr/local/lib/python3.9/dist-packages (from matplotlib->mpl-finance) (1.22.4)\n",
            "Requirement already satisfied: cycler>=0.10 in /usr/local/lib/python3.9/dist-packages (from matplotlib->mpl-finance) (0.11.0)\n",
            "Requirement already satisfied: fonttools>=4.22.0 in /usr/local/lib/python3.9/dist-packages (from matplotlib->mpl-finance) (4.39.3)\n",
            "Requirement already satisfied: packaging>=20.0 in /usr/local/lib/python3.9/dist-packages (from matplotlib->mpl-finance) (23.1)\n",
            "Requirement already satisfied: contourpy>=1.0.1 in /usr/local/lib/python3.9/dist-packages (from matplotlib->mpl-finance) (1.0.7)\n",
            "Requirement already satisfied: pyparsing>=2.3.1 in /usr/local/lib/python3.9/dist-packages (from matplotlib->mpl-finance) (3.0.9)\n",
            "Requirement already satisfied: zipp>=3.1.0 in /usr/local/lib/python3.9/dist-packages (from importlib-resources>=3.2.0->matplotlib->mpl-finance) (3.15.0)\n",
            "Requirement already satisfied: six>=1.5 in /usr/local/lib/python3.9/dist-packages (from python-dateutil>=2.7->matplotlib->mpl-finance) (1.16.0)\n",
            "Installing collected packages: mpl-finance\n",
            "Successfully installed mpl-finance-0.10.1\n"
          ]
        }
      ]
    },
    {
      "cell_type": "code",
      "source": [
        "pip install --upgrade mplfinance"
      ],
      "metadata": {
        "colab": {
          "base_uri": "https://localhost:8080/"
        },
        "id": "n9GRSWnCD4s3",
        "outputId": "0d686f64-489f-4b09-fe6d-0930cce6f47b"
      },
      "execution_count": null,
      "outputs": [
        {
          "output_type": "stream",
          "name": "stdout",
          "text": [
            "Looking in indexes: https://pypi.org/simple, https://us-python.pkg.dev/colab-wheels/public/simple/\n",
            "Collecting mplfinance\n",
            "  Downloading mplfinance-0.12.9b7-py3-none-any.whl (73 kB)\n",
            "\u001b[2K     \u001b[90m━━━━━━━━━━━━━━━━━━━━━━━━━━━━━━━━━━━━━━━━\u001b[0m \u001b[32m73.1/73.1 kB\u001b[0m \u001b[31m2.9 MB/s\u001b[0m eta \u001b[36m0:00:00\u001b[0m\n",
            "\u001b[?25hRequirement already satisfied: pandas in /usr/local/lib/python3.9/dist-packages (from mplfinance) (1.5.3)\n",
            "Requirement already satisfied: matplotlib in /usr/local/lib/python3.9/dist-packages (from mplfinance) (3.7.1)\n",
            "Requirement already satisfied: contourpy>=1.0.1 in /usr/local/lib/python3.9/dist-packages (from matplotlib->mplfinance) (1.0.7)\n",
            "Requirement already satisfied: importlib-resources>=3.2.0 in /usr/local/lib/python3.9/dist-packages (from matplotlib->mplfinance) (5.12.0)\n",
            "Requirement already satisfied: pillow>=6.2.0 in /usr/local/lib/python3.9/dist-packages (from matplotlib->mplfinance) (8.4.0)\n",
            "Requirement already satisfied: pyparsing>=2.3.1 in /usr/local/lib/python3.9/dist-packages (from matplotlib->mplfinance) (3.0.9)\n",
            "Requirement already satisfied: numpy>=1.20 in /usr/local/lib/python3.9/dist-packages (from matplotlib->mplfinance) (1.22.4)\n",
            "Requirement already satisfied: packaging>=20.0 in /usr/local/lib/python3.9/dist-packages (from matplotlib->mplfinance) (23.1)\n",
            "Requirement already satisfied: python-dateutil>=2.7 in /usr/local/lib/python3.9/dist-packages (from matplotlib->mplfinance) (2.8.2)\n",
            "Requirement already satisfied: fonttools>=4.22.0 in /usr/local/lib/python3.9/dist-packages (from matplotlib->mplfinance) (4.39.3)\n",
            "Requirement already satisfied: kiwisolver>=1.0.1 in /usr/local/lib/python3.9/dist-packages (from matplotlib->mplfinance) (1.4.4)\n",
            "Requirement already satisfied: cycler>=0.10 in /usr/local/lib/python3.9/dist-packages (from matplotlib->mplfinance) (0.11.0)\n",
            "Requirement already satisfied: pytz>=2020.1 in /usr/local/lib/python3.9/dist-packages (from pandas->mplfinance) (2022.7.1)\n",
            "Requirement already satisfied: zipp>=3.1.0 in /usr/local/lib/python3.9/dist-packages (from importlib-resources>=3.2.0->matplotlib->mplfinance) (3.15.0)\n",
            "Requirement already satisfied: six>=1.5 in /usr/local/lib/python3.9/dist-packages (from python-dateutil>=2.7->matplotlib->mplfinance) (1.16.0)\n",
            "Installing collected packages: mplfinance\n",
            "Successfully installed mplfinance-0.12.9b7\n"
          ]
        }
      ]
    },
    {
      "cell_type": "code",
      "execution_count": null,
      "metadata": {
        "id": "yYx5F6i1ejlt"
      },
      "outputs": [],
      "source": [
        "#Importing Libraries\n",
        "import pandas as pd\n",
        "import numpy as np\n",
        "import matplotlib.pyplot as plt\n",
        "import seaborn as sns\n",
        "import mplfinance as mpf\n",
        "import pandas_datareader.data as web\n",
        "import warnings\n",
        "warnings.filterwarnings('ignore')"
      ]
    },
    {
      "cell_type": "code",
      "source": [
        "\n",
        "from math import sqrt\n",
        "import timeit\n",
        "from sklearn.model_selection import KFold\n",
        "from sklearn.model_selection import cross_val_score\n",
        "from sklearn.neighbors import KNeighborsClassifier\n",
        "from sklearn.model_selection import train_test_split\n",
        "from sklearn.metrics import accuracy_score,classification_report\n",
        "import imblearn\n",
        "from imblearn.over_sampling import SMOTE\n",
        "from collections import Counter\n",
        "from sklearn.metrics import mean_squared_error\n",
        "from sklearn.metrics import mean_squared_error, mean_absolute_error, r2_score"
      ],
      "metadata": {
        "id": "olfyPt9hxm_j"
      },
      "execution_count": null,
      "outputs": []
    },
    {
      "cell_type": "markdown",
      "source": [
        "##Loading the Dataset"
      ],
      "metadata": {
        "id": "WNMXuGlug6Bd"
      }
    },
    {
      "cell_type": "code",
      "source": [
        "#Loading Dataset\n",
        "Data=pd.read_excel(\"/content/Data.xlsx\")"
      ],
      "metadata": {
        "id": "2soYRhdLe9aV"
      },
      "execution_count": null,
      "outputs": []
    },
    {
      "cell_type": "code",
      "source": [
        "Data.shape"
      ],
      "metadata": {
        "id": "O6PcMvMufFCy",
        "colab": {
          "base_uri": "https://localhost:8080/"
        },
        "outputId": "5121c44d-2f37-4e20-a067-1dacb08a854c"
      },
      "execution_count": null,
      "outputs": [
        {
          "output_type": "execute_result",
          "data": {
            "text/plain": [
              "(2518, 8)"
            ]
          },
          "metadata": {},
          "execution_count": 15
        }
      ]
    },
    {
      "cell_type": "code",
      "source": [
        "Data.head()"
      ],
      "metadata": {
        "id": "JEqUDJmgfJFC",
        "colab": {
          "base_uri": "https://localhost:8080/",
          "height": 206
        },
        "outputId": "e37f57b9-91ec-4ec4-d311-743edb6e82c1"
      },
      "execution_count": null,
      "outputs": [
        {
          "output_type": "execute_result",
          "data": {
            "text/plain": [
              "        Date       Open       High        Low      Close  Adj Close  \\\n",
              "0 2018-04-06  42.742500  43.119999  42.049999  42.095001  40.130054   \n",
              "1 2018-04-09  42.470001  43.272499  42.462502  42.512501  40.528065   \n",
              "2 2018-04-10  43.250000  43.500000  42.882500  43.312500  41.290710   \n",
              "3 2018-04-11  43.057499  43.480000  42.924999  43.110001  41.097672   \n",
              "4 2018-04-12  43.352501  43.750000  43.259998  43.535000  41.502827   \n",
              "\n",
              "      Volume Company_Name  \n",
              "0  140021200        Apple  \n",
              "1  116070800        Apple  \n",
              "2  113634400        Apple  \n",
              "3   89726400        Apple  \n",
              "4   91557200        Apple  "
            ],
            "text/html": [
              "\n",
              "  <div id=\"df-c479ec70-132a-458c-946f-de2c5a170b3c\">\n",
              "    <div class=\"colab-df-container\">\n",
              "      <div>\n",
              "<style scoped>\n",
              "    .dataframe tbody tr th:only-of-type {\n",
              "        vertical-align: middle;\n",
              "    }\n",
              "\n",
              "    .dataframe tbody tr th {\n",
              "        vertical-align: top;\n",
              "    }\n",
              "\n",
              "    .dataframe thead th {\n",
              "        text-align: right;\n",
              "    }\n",
              "</style>\n",
              "<table border=\"1\" class=\"dataframe\">\n",
              "  <thead>\n",
              "    <tr style=\"text-align: right;\">\n",
              "      <th></th>\n",
              "      <th>Date</th>\n",
              "      <th>Open</th>\n",
              "      <th>High</th>\n",
              "      <th>Low</th>\n",
              "      <th>Close</th>\n",
              "      <th>Adj Close</th>\n",
              "      <th>Volume</th>\n",
              "      <th>Company_Name</th>\n",
              "    </tr>\n",
              "  </thead>\n",
              "  <tbody>\n",
              "    <tr>\n",
              "      <th>0</th>\n",
              "      <td>2018-04-06</td>\n",
              "      <td>42.742500</td>\n",
              "      <td>43.119999</td>\n",
              "      <td>42.049999</td>\n",
              "      <td>42.095001</td>\n",
              "      <td>40.130054</td>\n",
              "      <td>140021200</td>\n",
              "      <td>Apple</td>\n",
              "    </tr>\n",
              "    <tr>\n",
              "      <th>1</th>\n",
              "      <td>2018-04-09</td>\n",
              "      <td>42.470001</td>\n",
              "      <td>43.272499</td>\n",
              "      <td>42.462502</td>\n",
              "      <td>42.512501</td>\n",
              "      <td>40.528065</td>\n",
              "      <td>116070800</td>\n",
              "      <td>Apple</td>\n",
              "    </tr>\n",
              "    <tr>\n",
              "      <th>2</th>\n",
              "      <td>2018-04-10</td>\n",
              "      <td>43.250000</td>\n",
              "      <td>43.500000</td>\n",
              "      <td>42.882500</td>\n",
              "      <td>43.312500</td>\n",
              "      <td>41.290710</td>\n",
              "      <td>113634400</td>\n",
              "      <td>Apple</td>\n",
              "    </tr>\n",
              "    <tr>\n",
              "      <th>3</th>\n",
              "      <td>2018-04-11</td>\n",
              "      <td>43.057499</td>\n",
              "      <td>43.480000</td>\n",
              "      <td>42.924999</td>\n",
              "      <td>43.110001</td>\n",
              "      <td>41.097672</td>\n",
              "      <td>89726400</td>\n",
              "      <td>Apple</td>\n",
              "    </tr>\n",
              "    <tr>\n",
              "      <th>4</th>\n",
              "      <td>2018-04-12</td>\n",
              "      <td>43.352501</td>\n",
              "      <td>43.750000</td>\n",
              "      <td>43.259998</td>\n",
              "      <td>43.535000</td>\n",
              "      <td>41.502827</td>\n",
              "      <td>91557200</td>\n",
              "      <td>Apple</td>\n",
              "    </tr>\n",
              "  </tbody>\n",
              "</table>\n",
              "</div>\n",
              "      <button class=\"colab-df-convert\" onclick=\"convertToInteractive('df-c479ec70-132a-458c-946f-de2c5a170b3c')\"\n",
              "              title=\"Convert this dataframe to an interactive table.\"\n",
              "              style=\"display:none;\">\n",
              "        \n",
              "  <svg xmlns=\"http://www.w3.org/2000/svg\" height=\"24px\"viewBox=\"0 0 24 24\"\n",
              "       width=\"24px\">\n",
              "    <path d=\"M0 0h24v24H0V0z\" fill=\"none\"/>\n",
              "    <path d=\"M18.56 5.44l.94 2.06.94-2.06 2.06-.94-2.06-.94-.94-2.06-.94 2.06-2.06.94zm-11 1L8.5 8.5l.94-2.06 2.06-.94-2.06-.94L8.5 2.5l-.94 2.06-2.06.94zm10 10l.94 2.06.94-2.06 2.06-.94-2.06-.94-.94-2.06-.94 2.06-2.06.94z\"/><path d=\"M17.41 7.96l-1.37-1.37c-.4-.4-.92-.59-1.43-.59-.52 0-1.04.2-1.43.59L10.3 9.45l-7.72 7.72c-.78.78-.78 2.05 0 2.83L4 21.41c.39.39.9.59 1.41.59.51 0 1.02-.2 1.41-.59l7.78-7.78 2.81-2.81c.8-.78.8-2.07 0-2.86zM5.41 20L4 18.59l7.72-7.72 1.47 1.35L5.41 20z\"/>\n",
              "  </svg>\n",
              "      </button>\n",
              "      \n",
              "  <style>\n",
              "    .colab-df-container {\n",
              "      display:flex;\n",
              "      flex-wrap:wrap;\n",
              "      gap: 12px;\n",
              "    }\n",
              "\n",
              "    .colab-df-convert {\n",
              "      background-color: #E8F0FE;\n",
              "      border: none;\n",
              "      border-radius: 50%;\n",
              "      cursor: pointer;\n",
              "      display: none;\n",
              "      fill: #1967D2;\n",
              "      height: 32px;\n",
              "      padding: 0 0 0 0;\n",
              "      width: 32px;\n",
              "    }\n",
              "\n",
              "    .colab-df-convert:hover {\n",
              "      background-color: #E2EBFA;\n",
              "      box-shadow: 0px 1px 2px rgba(60, 64, 67, 0.3), 0px 1px 3px 1px rgba(60, 64, 67, 0.15);\n",
              "      fill: #174EA6;\n",
              "    }\n",
              "\n",
              "    [theme=dark] .colab-df-convert {\n",
              "      background-color: #3B4455;\n",
              "      fill: #D2E3FC;\n",
              "    }\n",
              "\n",
              "    [theme=dark] .colab-df-convert:hover {\n",
              "      background-color: #434B5C;\n",
              "      box-shadow: 0px 1px 3px 1px rgba(0, 0, 0, 0.15);\n",
              "      filter: drop-shadow(0px 1px 2px rgba(0, 0, 0, 0.3));\n",
              "      fill: #FFFFFF;\n",
              "    }\n",
              "  </style>\n",
              "\n",
              "      <script>\n",
              "        const buttonEl =\n",
              "          document.querySelector('#df-c479ec70-132a-458c-946f-de2c5a170b3c button.colab-df-convert');\n",
              "        buttonEl.style.display =\n",
              "          google.colab.kernel.accessAllowed ? 'block' : 'none';\n",
              "\n",
              "        async function convertToInteractive(key) {\n",
              "          const element = document.querySelector('#df-c479ec70-132a-458c-946f-de2c5a170b3c');\n",
              "          const dataTable =\n",
              "            await google.colab.kernel.invokeFunction('convertToInteractive',\n",
              "                                                     [key], {});\n",
              "          if (!dataTable) return;\n",
              "\n",
              "          const docLinkHtml = 'Like what you see? Visit the ' +\n",
              "            '<a target=\"_blank\" href=https://colab.research.google.com/notebooks/data_table.ipynb>data table notebook</a>'\n",
              "            + ' to learn more about interactive tables.';\n",
              "          element.innerHTML = '';\n",
              "          dataTable['output_type'] = 'display_data';\n",
              "          await google.colab.output.renderOutput(dataTable, element);\n",
              "          const docLink = document.createElement('div');\n",
              "          docLink.innerHTML = docLinkHtml;\n",
              "          element.appendChild(docLink);\n",
              "        }\n",
              "      </script>\n",
              "    </div>\n",
              "  </div>\n",
              "  "
            ]
          },
          "metadata": {},
          "execution_count": 16
        }
      ]
    },
    {
      "cell_type": "code",
      "source": [
        "Data.tail()"
      ],
      "metadata": {
        "id": "pGEo7yn7gQ_8",
        "colab": {
          "base_uri": "https://localhost:8080/",
          "height": 206
        },
        "outputId": "88435d93-6a45-494f-9907-4cdbf69d187e"
      },
      "execution_count": null,
      "outputs": [
        {
          "output_type": "execute_result",
          "data": {
            "text/plain": [
              "           Date        Open        High         Low       Close   Adj Close  \\\n",
              "2513 2023-03-30  284.230011  284.459991  281.480011  284.049988  284.049988   \n",
              "2514 2023-03-31  283.730011  289.269989  283.000000  288.299988  288.299988   \n",
              "2515 2023-04-03  286.519989  288.269989  283.950012  287.230011  287.230011   \n",
              "2516 2023-04-04  287.230011  290.450012  285.670013  287.179993  287.179993   \n",
              "2517 2023-04-05  285.850006  287.149994  282.920013  284.339996  284.339996   \n",
              "\n",
              "        Volume Company_Name  \n",
              "2513  25053400    Microsoft  \n",
              "2514  32740300    Microsoft  \n",
              "2515  24883300    Microsoft  \n",
              "2516  25824300    Microsoft  \n",
              "2517  22028700    Microsoft  "
            ],
            "text/html": [
              "\n",
              "  <div id=\"df-1f6bbd95-5809-43de-aa32-055a7bb32d94\">\n",
              "    <div class=\"colab-df-container\">\n",
              "      <div>\n",
              "<style scoped>\n",
              "    .dataframe tbody tr th:only-of-type {\n",
              "        vertical-align: middle;\n",
              "    }\n",
              "\n",
              "    .dataframe tbody tr th {\n",
              "        vertical-align: top;\n",
              "    }\n",
              "\n",
              "    .dataframe thead th {\n",
              "        text-align: right;\n",
              "    }\n",
              "</style>\n",
              "<table border=\"1\" class=\"dataframe\">\n",
              "  <thead>\n",
              "    <tr style=\"text-align: right;\">\n",
              "      <th></th>\n",
              "      <th>Date</th>\n",
              "      <th>Open</th>\n",
              "      <th>High</th>\n",
              "      <th>Low</th>\n",
              "      <th>Close</th>\n",
              "      <th>Adj Close</th>\n",
              "      <th>Volume</th>\n",
              "      <th>Company_Name</th>\n",
              "    </tr>\n",
              "  </thead>\n",
              "  <tbody>\n",
              "    <tr>\n",
              "      <th>2513</th>\n",
              "      <td>2023-03-30</td>\n",
              "      <td>284.230011</td>\n",
              "      <td>284.459991</td>\n",
              "      <td>281.480011</td>\n",
              "      <td>284.049988</td>\n",
              "      <td>284.049988</td>\n",
              "      <td>25053400</td>\n",
              "      <td>Microsoft</td>\n",
              "    </tr>\n",
              "    <tr>\n",
              "      <th>2514</th>\n",
              "      <td>2023-03-31</td>\n",
              "      <td>283.730011</td>\n",
              "      <td>289.269989</td>\n",
              "      <td>283.000000</td>\n",
              "      <td>288.299988</td>\n",
              "      <td>288.299988</td>\n",
              "      <td>32740300</td>\n",
              "      <td>Microsoft</td>\n",
              "    </tr>\n",
              "    <tr>\n",
              "      <th>2515</th>\n",
              "      <td>2023-04-03</td>\n",
              "      <td>286.519989</td>\n",
              "      <td>288.269989</td>\n",
              "      <td>283.950012</td>\n",
              "      <td>287.230011</td>\n",
              "      <td>287.230011</td>\n",
              "      <td>24883300</td>\n",
              "      <td>Microsoft</td>\n",
              "    </tr>\n",
              "    <tr>\n",
              "      <th>2516</th>\n",
              "      <td>2023-04-04</td>\n",
              "      <td>287.230011</td>\n",
              "      <td>290.450012</td>\n",
              "      <td>285.670013</td>\n",
              "      <td>287.179993</td>\n",
              "      <td>287.179993</td>\n",
              "      <td>25824300</td>\n",
              "      <td>Microsoft</td>\n",
              "    </tr>\n",
              "    <tr>\n",
              "      <th>2517</th>\n",
              "      <td>2023-04-05</td>\n",
              "      <td>285.850006</td>\n",
              "      <td>287.149994</td>\n",
              "      <td>282.920013</td>\n",
              "      <td>284.339996</td>\n",
              "      <td>284.339996</td>\n",
              "      <td>22028700</td>\n",
              "      <td>Microsoft</td>\n",
              "    </tr>\n",
              "  </tbody>\n",
              "</table>\n",
              "</div>\n",
              "      <button class=\"colab-df-convert\" onclick=\"convertToInteractive('df-1f6bbd95-5809-43de-aa32-055a7bb32d94')\"\n",
              "              title=\"Convert this dataframe to an interactive table.\"\n",
              "              style=\"display:none;\">\n",
              "        \n",
              "  <svg xmlns=\"http://www.w3.org/2000/svg\" height=\"24px\"viewBox=\"0 0 24 24\"\n",
              "       width=\"24px\">\n",
              "    <path d=\"M0 0h24v24H0V0z\" fill=\"none\"/>\n",
              "    <path d=\"M18.56 5.44l.94 2.06.94-2.06 2.06-.94-2.06-.94-.94-2.06-.94 2.06-2.06.94zm-11 1L8.5 8.5l.94-2.06 2.06-.94-2.06-.94L8.5 2.5l-.94 2.06-2.06.94zm10 10l.94 2.06.94-2.06 2.06-.94-2.06-.94-.94-2.06-.94 2.06-2.06.94z\"/><path d=\"M17.41 7.96l-1.37-1.37c-.4-.4-.92-.59-1.43-.59-.52 0-1.04.2-1.43.59L10.3 9.45l-7.72 7.72c-.78.78-.78 2.05 0 2.83L4 21.41c.39.39.9.59 1.41.59.51 0 1.02-.2 1.41-.59l7.78-7.78 2.81-2.81c.8-.78.8-2.07 0-2.86zM5.41 20L4 18.59l7.72-7.72 1.47 1.35L5.41 20z\"/>\n",
              "  </svg>\n",
              "      </button>\n",
              "      \n",
              "  <style>\n",
              "    .colab-df-container {\n",
              "      display:flex;\n",
              "      flex-wrap:wrap;\n",
              "      gap: 12px;\n",
              "    }\n",
              "\n",
              "    .colab-df-convert {\n",
              "      background-color: #E8F0FE;\n",
              "      border: none;\n",
              "      border-radius: 50%;\n",
              "      cursor: pointer;\n",
              "      display: none;\n",
              "      fill: #1967D2;\n",
              "      height: 32px;\n",
              "      padding: 0 0 0 0;\n",
              "      width: 32px;\n",
              "    }\n",
              "\n",
              "    .colab-df-convert:hover {\n",
              "      background-color: #E2EBFA;\n",
              "      box-shadow: 0px 1px 2px rgba(60, 64, 67, 0.3), 0px 1px 3px 1px rgba(60, 64, 67, 0.15);\n",
              "      fill: #174EA6;\n",
              "    }\n",
              "\n",
              "    [theme=dark] .colab-df-convert {\n",
              "      background-color: #3B4455;\n",
              "      fill: #D2E3FC;\n",
              "    }\n",
              "\n",
              "    [theme=dark] .colab-df-convert:hover {\n",
              "      background-color: #434B5C;\n",
              "      box-shadow: 0px 1px 3px 1px rgba(0, 0, 0, 0.15);\n",
              "      filter: drop-shadow(0px 1px 2px rgba(0, 0, 0, 0.3));\n",
              "      fill: #FFFFFF;\n",
              "    }\n",
              "  </style>\n",
              "\n",
              "      <script>\n",
              "        const buttonEl =\n",
              "          document.querySelector('#df-1f6bbd95-5809-43de-aa32-055a7bb32d94 button.colab-df-convert');\n",
              "        buttonEl.style.display =\n",
              "          google.colab.kernel.accessAllowed ? 'block' : 'none';\n",
              "\n",
              "        async function convertToInteractive(key) {\n",
              "          const element = document.querySelector('#df-1f6bbd95-5809-43de-aa32-055a7bb32d94');\n",
              "          const dataTable =\n",
              "            await google.colab.kernel.invokeFunction('convertToInteractive',\n",
              "                                                     [key], {});\n",
              "          if (!dataTable) return;\n",
              "\n",
              "          const docLinkHtml = 'Like what you see? Visit the ' +\n",
              "            '<a target=\"_blank\" href=https://colab.research.google.com/notebooks/data_table.ipynb>data table notebook</a>'\n",
              "            + ' to learn more about interactive tables.';\n",
              "          element.innerHTML = '';\n",
              "          dataTable['output_type'] = 'display_data';\n",
              "          await google.colab.output.renderOutput(dataTable, element);\n",
              "          const docLink = document.createElement('div');\n",
              "          docLink.innerHTML = docLinkHtml;\n",
              "          element.appendChild(docLink);\n",
              "        }\n",
              "      </script>\n",
              "    </div>\n",
              "  </div>\n",
              "  "
            ]
          },
          "metadata": {},
          "execution_count": 17
        }
      ]
    },
    {
      "cell_type": "code",
      "source": [
        "Data.info()"
      ],
      "metadata": {
        "id": "kvBN8sA1fNp-",
        "colab": {
          "base_uri": "https://localhost:8080/"
        },
        "outputId": "401b37d3-8027-4edd-f9a9-c9a6aea6a591"
      },
      "execution_count": null,
      "outputs": [
        {
          "output_type": "stream",
          "name": "stdout",
          "text": [
            "<class 'pandas.core.frame.DataFrame'>\n",
            "RangeIndex: 2518 entries, 0 to 2517\n",
            "Data columns (total 8 columns):\n",
            " #   Column        Non-Null Count  Dtype         \n",
            "---  ------        --------------  -----         \n",
            " 0   Date          2518 non-null   datetime64[ns]\n",
            " 1   Open          2518 non-null   float64       \n",
            " 2   High          2518 non-null   float64       \n",
            " 3   Low           2518 non-null   float64       \n",
            " 4   Close         2518 non-null   float64       \n",
            " 5   Adj Close     2518 non-null   float64       \n",
            " 6   Volume        2518 non-null   int64         \n",
            " 7   Company_Name  2518 non-null   object        \n",
            "dtypes: datetime64[ns](1), float64(5), int64(1), object(1)\n",
            "memory usage: 157.5+ KB\n"
          ]
        }
      ]
    },
    {
      "cell_type": "code",
      "source": [
        "Data.describe()"
      ],
      "metadata": {
        "id": "hIEdYr1QgH3S",
        "colab": {
          "base_uri": "https://localhost:8080/",
          "height": 300
        },
        "outputId": "987affba-9a8e-47f7-b6bf-5df8956fee38"
      },
      "execution_count": null,
      "outputs": [
        {
          "output_type": "execute_result",
          "data": {
            "text/plain": [
              "              Open         High          Low        Close    Adj Close  \\\n",
              "count  2518.000000  2518.000000  2518.000000  2518.000000  2518.000000   \n",
              "mean    152.889074   154.595639   151.171906   152.965004   150.326759   \n",
              "std      77.936514    78.739425    77.061783    77.939910    77.596140   \n",
              "min      35.994999    36.430000    35.500000    35.547501    34.257286   \n",
              "25%      99.292502   100.087502    97.932503    98.974998    94.976103   \n",
              "50%     140.389999   142.305000   138.709999   140.620002   138.550179   \n",
              "75%     213.100006   214.959999   210.352501   212.785000   208.003330   \n",
              "max     344.619995   349.670013   342.200012   343.109985   339.075562   \n",
              "\n",
              "             Volume  \n",
              "count  2.518000e+03  \n",
              "mean   7.140523e+07  \n",
              "std    5.711427e+07  \n",
              "min    8.989200e+06  \n",
              "25%    2.703315e+07  \n",
              "50%    5.663645e+07  \n",
              "75%    9.766228e+07  \n",
              "max    4.265100e+08  "
            ],
            "text/html": [
              "\n",
              "  <div id=\"df-dfa3e148-4166-43d2-ac2c-fc79ecf087a5\">\n",
              "    <div class=\"colab-df-container\">\n",
              "      <div>\n",
              "<style scoped>\n",
              "    .dataframe tbody tr th:only-of-type {\n",
              "        vertical-align: middle;\n",
              "    }\n",
              "\n",
              "    .dataframe tbody tr th {\n",
              "        vertical-align: top;\n",
              "    }\n",
              "\n",
              "    .dataframe thead th {\n",
              "        text-align: right;\n",
              "    }\n",
              "</style>\n",
              "<table border=\"1\" class=\"dataframe\">\n",
              "  <thead>\n",
              "    <tr style=\"text-align: right;\">\n",
              "      <th></th>\n",
              "      <th>Open</th>\n",
              "      <th>High</th>\n",
              "      <th>Low</th>\n",
              "      <th>Close</th>\n",
              "      <th>Adj Close</th>\n",
              "      <th>Volume</th>\n",
              "    </tr>\n",
              "  </thead>\n",
              "  <tbody>\n",
              "    <tr>\n",
              "      <th>count</th>\n",
              "      <td>2518.000000</td>\n",
              "      <td>2518.000000</td>\n",
              "      <td>2518.000000</td>\n",
              "      <td>2518.000000</td>\n",
              "      <td>2518.000000</td>\n",
              "      <td>2.518000e+03</td>\n",
              "    </tr>\n",
              "    <tr>\n",
              "      <th>mean</th>\n",
              "      <td>152.889074</td>\n",
              "      <td>154.595639</td>\n",
              "      <td>151.171906</td>\n",
              "      <td>152.965004</td>\n",
              "      <td>150.326759</td>\n",
              "      <td>7.140523e+07</td>\n",
              "    </tr>\n",
              "    <tr>\n",
              "      <th>std</th>\n",
              "      <td>77.936514</td>\n",
              "      <td>78.739425</td>\n",
              "      <td>77.061783</td>\n",
              "      <td>77.939910</td>\n",
              "      <td>77.596140</td>\n",
              "      <td>5.711427e+07</td>\n",
              "    </tr>\n",
              "    <tr>\n",
              "      <th>min</th>\n",
              "      <td>35.994999</td>\n",
              "      <td>36.430000</td>\n",
              "      <td>35.500000</td>\n",
              "      <td>35.547501</td>\n",
              "      <td>34.257286</td>\n",
              "      <td>8.989200e+06</td>\n",
              "    </tr>\n",
              "    <tr>\n",
              "      <th>25%</th>\n",
              "      <td>99.292502</td>\n",
              "      <td>100.087502</td>\n",
              "      <td>97.932503</td>\n",
              "      <td>98.974998</td>\n",
              "      <td>94.976103</td>\n",
              "      <td>2.703315e+07</td>\n",
              "    </tr>\n",
              "    <tr>\n",
              "      <th>50%</th>\n",
              "      <td>140.389999</td>\n",
              "      <td>142.305000</td>\n",
              "      <td>138.709999</td>\n",
              "      <td>140.620002</td>\n",
              "      <td>138.550179</td>\n",
              "      <td>5.663645e+07</td>\n",
              "    </tr>\n",
              "    <tr>\n",
              "      <th>75%</th>\n",
              "      <td>213.100006</td>\n",
              "      <td>214.959999</td>\n",
              "      <td>210.352501</td>\n",
              "      <td>212.785000</td>\n",
              "      <td>208.003330</td>\n",
              "      <td>9.766228e+07</td>\n",
              "    </tr>\n",
              "    <tr>\n",
              "      <th>max</th>\n",
              "      <td>344.619995</td>\n",
              "      <td>349.670013</td>\n",
              "      <td>342.200012</td>\n",
              "      <td>343.109985</td>\n",
              "      <td>339.075562</td>\n",
              "      <td>4.265100e+08</td>\n",
              "    </tr>\n",
              "  </tbody>\n",
              "</table>\n",
              "</div>\n",
              "      <button class=\"colab-df-convert\" onclick=\"convertToInteractive('df-dfa3e148-4166-43d2-ac2c-fc79ecf087a5')\"\n",
              "              title=\"Convert this dataframe to an interactive table.\"\n",
              "              style=\"display:none;\">\n",
              "        \n",
              "  <svg xmlns=\"http://www.w3.org/2000/svg\" height=\"24px\"viewBox=\"0 0 24 24\"\n",
              "       width=\"24px\">\n",
              "    <path d=\"M0 0h24v24H0V0z\" fill=\"none\"/>\n",
              "    <path d=\"M18.56 5.44l.94 2.06.94-2.06 2.06-.94-2.06-.94-.94-2.06-.94 2.06-2.06.94zm-11 1L8.5 8.5l.94-2.06 2.06-.94-2.06-.94L8.5 2.5l-.94 2.06-2.06.94zm10 10l.94 2.06.94-2.06 2.06-.94-2.06-.94-.94-2.06-.94 2.06-2.06.94z\"/><path d=\"M17.41 7.96l-1.37-1.37c-.4-.4-.92-.59-1.43-.59-.52 0-1.04.2-1.43.59L10.3 9.45l-7.72 7.72c-.78.78-.78 2.05 0 2.83L4 21.41c.39.39.9.59 1.41.59.51 0 1.02-.2 1.41-.59l7.78-7.78 2.81-2.81c.8-.78.8-2.07 0-2.86zM5.41 20L4 18.59l7.72-7.72 1.47 1.35L5.41 20z\"/>\n",
              "  </svg>\n",
              "      </button>\n",
              "      \n",
              "  <style>\n",
              "    .colab-df-container {\n",
              "      display:flex;\n",
              "      flex-wrap:wrap;\n",
              "      gap: 12px;\n",
              "    }\n",
              "\n",
              "    .colab-df-convert {\n",
              "      background-color: #E8F0FE;\n",
              "      border: none;\n",
              "      border-radius: 50%;\n",
              "      cursor: pointer;\n",
              "      display: none;\n",
              "      fill: #1967D2;\n",
              "      height: 32px;\n",
              "      padding: 0 0 0 0;\n",
              "      width: 32px;\n",
              "    }\n",
              "\n",
              "    .colab-df-convert:hover {\n",
              "      background-color: #E2EBFA;\n",
              "      box-shadow: 0px 1px 2px rgba(60, 64, 67, 0.3), 0px 1px 3px 1px rgba(60, 64, 67, 0.15);\n",
              "      fill: #174EA6;\n",
              "    }\n",
              "\n",
              "    [theme=dark] .colab-df-convert {\n",
              "      background-color: #3B4455;\n",
              "      fill: #D2E3FC;\n",
              "    }\n",
              "\n",
              "    [theme=dark] .colab-df-convert:hover {\n",
              "      background-color: #434B5C;\n",
              "      box-shadow: 0px 1px 3px 1px rgba(0, 0, 0, 0.15);\n",
              "      filter: drop-shadow(0px 1px 2px rgba(0, 0, 0, 0.3));\n",
              "      fill: #FFFFFF;\n",
              "    }\n",
              "  </style>\n",
              "\n",
              "      <script>\n",
              "        const buttonEl =\n",
              "          document.querySelector('#df-dfa3e148-4166-43d2-ac2c-fc79ecf087a5 button.colab-df-convert');\n",
              "        buttonEl.style.display =\n",
              "          google.colab.kernel.accessAllowed ? 'block' : 'none';\n",
              "\n",
              "        async function convertToInteractive(key) {\n",
              "          const element = document.querySelector('#df-dfa3e148-4166-43d2-ac2c-fc79ecf087a5');\n",
              "          const dataTable =\n",
              "            await google.colab.kernel.invokeFunction('convertToInteractive',\n",
              "                                                     [key], {});\n",
              "          if (!dataTable) return;\n",
              "\n",
              "          const docLinkHtml = 'Like what you see? Visit the ' +\n",
              "            '<a target=\"_blank\" href=https://colab.research.google.com/notebooks/data_table.ipynb>data table notebook</a>'\n",
              "            + ' to learn more about interactive tables.';\n",
              "          element.innerHTML = '';\n",
              "          dataTable['output_type'] = 'display_data';\n",
              "          await google.colab.output.renderOutput(dataTable, element);\n",
              "          const docLink = document.createElement('div');\n",
              "          docLink.innerHTML = docLinkHtml;\n",
              "          element.appendChild(docLink);\n",
              "        }\n",
              "      </script>\n",
              "    </div>\n",
              "  </div>\n",
              "  "
            ]
          },
          "metadata": {},
          "execution_count": 19
        }
      ]
    },
    {
      "cell_type": "code",
      "source": [
        "Data.isnull().sum()"
      ],
      "metadata": {
        "id": "rgekGXragY8F",
        "colab": {
          "base_uri": "https://localhost:8080/"
        },
        "outputId": "d71098f0-773a-46b9-b6f5-354321a0d139"
      },
      "execution_count": null,
      "outputs": [
        {
          "output_type": "execute_result",
          "data": {
            "text/plain": [
              "Date            0\n",
              "Open            0\n",
              "High            0\n",
              "Low             0\n",
              "Close           0\n",
              "Adj Close       0\n",
              "Volume          0\n",
              "Company_Name    0\n",
              "dtype: int64"
            ]
          },
          "metadata": {},
          "execution_count": 20
        }
      ]
    },
    {
      "cell_type": "code",
      "source": [
        "Data.dtypes"
      ],
      "metadata": {
        "id": "ZlaaU8IWgh81",
        "colab": {
          "base_uri": "https://localhost:8080/"
        },
        "outputId": "0fe1da47-36cb-4baf-ff5a-8e293619f9ee"
      },
      "execution_count": null,
      "outputs": [
        {
          "output_type": "execute_result",
          "data": {
            "text/plain": [
              "Date            datetime64[ns]\n",
              "Open                   float64\n",
              "High                   float64\n",
              "Low                    float64\n",
              "Close                  float64\n",
              "Adj Close              float64\n",
              "Volume                   int64\n",
              "Company_Name            object\n",
              "dtype: object"
            ]
          },
          "metadata": {},
          "execution_count": 21
        }
      ]
    },
    {
      "cell_type": "markdown",
      "source": [
        "#**Forecasting Model Building**"
      ],
      "metadata": {
        "id": "skSSlKpBpjGf"
      }
    },
    {
      "cell_type": "markdown",
      "source": [
        "**Now we are going to get different RMSE scores using different models, this score gives average difference between the predicted traffic values and the actual traffic values in test data.**\n",
        "\n",
        "**We will compare RMSE value that we will obtained from different models & then will pick the one which has lower value among all.**"
      ],
      "metadata": {
        "id": "c5hLgiNhpqDv"
      }
    },
    {
      "cell_type": "code",
      "source": [
        "from statsmodels.tsa.holtwinters import SimpleExpSmoothing\n",
        "from statsmodels.tsa.holtwinters import Holt\n",
        "from statsmodels.tsa.holtwinters import ExponentialSmoothing"
      ],
      "metadata": {
        "id": "dXK-4mQyYzqu"
      },
      "execution_count": null,
      "outputs": []
    },
    {
      "cell_type": "code",
      "source": [
        "#Train = df1.iloc[0:1850,0:11]\n",
        "#Test = df1.iloc[1850:,0:11]"
      ],
      "metadata": {
        "id": "qqcERW76q3Gf"
      },
      "execution_count": null,
      "outputs": []
    },
    {
      "cell_type": "code",
      "source": [
        "df2=df1.loc[df1['Company']=='Apple']\n",
        "df2.set_index('Date',inplace = True)\n",
        "train = df2.loc[:'2018-06-29']['Close']\n",
        "test = df2.loc['2022-01-25':]['Close']"
      ],
      "metadata": {
        "id": "EuHyvO1aD60r"
      },
      "execution_count": null,
      "outputs": []
    },
    {
      "cell_type": "code",
      "source": [
        "df2.head()"
      ],
      "metadata": {
        "colab": {
          "base_uri": "https://localhost:8080/",
          "height": 368
        },
        "id": "gmDAZNIoccNo",
        "outputId": "3b5197e5-5eb6-4c04-ad72-569d27569f21"
      },
      "execution_count": null,
      "outputs": [
        {
          "output_type": "execute_result",
          "data": {
            "text/plain": [
              "                Open      High       Low  Adj_Close    Volume      ma10  \\\n",
              "Date                                                                      \n",
              "2018-06-29  0.034273  0.033098  0.033347   0.032905  0.196305  0.028778   \n",
              "2018-07-02  0.032272  0.033185  0.033763   0.034530  0.148342  0.028648   \n",
              "2018-07-03  0.035488  0.033704  0.033860   0.031971  0.112162  0.028501   \n",
              "2018-07-05  0.033439  0.032475  0.034464   0.033133  0.137544  0.028409   \n",
              "2018-07-06  0.033568  0.034087  0.035214   0.035150  0.145985  0.028618   \n",
              "\n",
              "                ma30      ma60 Company      Close  \n",
              "Date                                               \n",
              "2018-06-29  0.028298  0.016514   Apple  46.277500  \n",
              "2018-07-02  0.028322  0.016785   Apple  46.794998  \n",
              "2018-07-03  0.028218  0.016985   Apple  45.980000  \n",
              "2018-07-05  0.028168  0.017161   Apple  46.349998  \n",
              "2018-07-06  0.028157  0.017385   Apple  46.992500  "
            ],
            "text/html": [
              "\n",
              "  <div id=\"df-66a55a19-65fc-402c-a2b6-111b9aed0ce1\">\n",
              "    <div class=\"colab-df-container\">\n",
              "      <div>\n",
              "<style scoped>\n",
              "    .dataframe tbody tr th:only-of-type {\n",
              "        vertical-align: middle;\n",
              "    }\n",
              "\n",
              "    .dataframe tbody tr th {\n",
              "        vertical-align: top;\n",
              "    }\n",
              "\n",
              "    .dataframe thead th {\n",
              "        text-align: right;\n",
              "    }\n",
              "</style>\n",
              "<table border=\"1\" class=\"dataframe\">\n",
              "  <thead>\n",
              "    <tr style=\"text-align: right;\">\n",
              "      <th></th>\n",
              "      <th>Open</th>\n",
              "      <th>High</th>\n",
              "      <th>Low</th>\n",
              "      <th>Adj_Close</th>\n",
              "      <th>Volume</th>\n",
              "      <th>ma10</th>\n",
              "      <th>ma30</th>\n",
              "      <th>ma60</th>\n",
              "      <th>Company</th>\n",
              "      <th>Close</th>\n",
              "    </tr>\n",
              "    <tr>\n",
              "      <th>Date</th>\n",
              "      <th></th>\n",
              "      <th></th>\n",
              "      <th></th>\n",
              "      <th></th>\n",
              "      <th></th>\n",
              "      <th></th>\n",
              "      <th></th>\n",
              "      <th></th>\n",
              "      <th></th>\n",
              "      <th></th>\n",
              "    </tr>\n",
              "  </thead>\n",
              "  <tbody>\n",
              "    <tr>\n",
              "      <th>2018-06-29</th>\n",
              "      <td>0.034273</td>\n",
              "      <td>0.033098</td>\n",
              "      <td>0.033347</td>\n",
              "      <td>0.032905</td>\n",
              "      <td>0.196305</td>\n",
              "      <td>0.028778</td>\n",
              "      <td>0.028298</td>\n",
              "      <td>0.016514</td>\n",
              "      <td>Apple</td>\n",
              "      <td>46.277500</td>\n",
              "    </tr>\n",
              "    <tr>\n",
              "      <th>2018-07-02</th>\n",
              "      <td>0.032272</td>\n",
              "      <td>0.033185</td>\n",
              "      <td>0.033763</td>\n",
              "      <td>0.034530</td>\n",
              "      <td>0.148342</td>\n",
              "      <td>0.028648</td>\n",
              "      <td>0.028322</td>\n",
              "      <td>0.016785</td>\n",
              "      <td>Apple</td>\n",
              "      <td>46.794998</td>\n",
              "    </tr>\n",
              "    <tr>\n",
              "      <th>2018-07-03</th>\n",
              "      <td>0.035488</td>\n",
              "      <td>0.033704</td>\n",
              "      <td>0.033860</td>\n",
              "      <td>0.031971</td>\n",
              "      <td>0.112162</td>\n",
              "      <td>0.028501</td>\n",
              "      <td>0.028218</td>\n",
              "      <td>0.016985</td>\n",
              "      <td>Apple</td>\n",
              "      <td>45.980000</td>\n",
              "    </tr>\n",
              "    <tr>\n",
              "      <th>2018-07-05</th>\n",
              "      <td>0.033439</td>\n",
              "      <td>0.032475</td>\n",
              "      <td>0.034464</td>\n",
              "      <td>0.033133</td>\n",
              "      <td>0.137544</td>\n",
              "      <td>0.028409</td>\n",
              "      <td>0.028168</td>\n",
              "      <td>0.017161</td>\n",
              "      <td>Apple</td>\n",
              "      <td>46.349998</td>\n",
              "    </tr>\n",
              "    <tr>\n",
              "      <th>2018-07-06</th>\n",
              "      <td>0.033568</td>\n",
              "      <td>0.034087</td>\n",
              "      <td>0.035214</td>\n",
              "      <td>0.035150</td>\n",
              "      <td>0.145985</td>\n",
              "      <td>0.028618</td>\n",
              "      <td>0.028157</td>\n",
              "      <td>0.017385</td>\n",
              "      <td>Apple</td>\n",
              "      <td>46.992500</td>\n",
              "    </tr>\n",
              "  </tbody>\n",
              "</table>\n",
              "</div>\n",
              "      <button class=\"colab-df-convert\" onclick=\"convertToInteractive('df-66a55a19-65fc-402c-a2b6-111b9aed0ce1')\"\n",
              "              title=\"Convert this dataframe to an interactive table.\"\n",
              "              style=\"display:none;\">\n",
              "        \n",
              "  <svg xmlns=\"http://www.w3.org/2000/svg\" height=\"24px\"viewBox=\"0 0 24 24\"\n",
              "       width=\"24px\">\n",
              "    <path d=\"M0 0h24v24H0V0z\" fill=\"none\"/>\n",
              "    <path d=\"M18.56 5.44l.94 2.06.94-2.06 2.06-.94-2.06-.94-.94-2.06-.94 2.06-2.06.94zm-11 1L8.5 8.5l.94-2.06 2.06-.94-2.06-.94L8.5 2.5l-.94 2.06-2.06.94zm10 10l.94 2.06.94-2.06 2.06-.94-2.06-.94-.94-2.06-.94 2.06-2.06.94z\"/><path d=\"M17.41 7.96l-1.37-1.37c-.4-.4-.92-.59-1.43-.59-.52 0-1.04.2-1.43.59L10.3 9.45l-7.72 7.72c-.78.78-.78 2.05 0 2.83L4 21.41c.39.39.9.59 1.41.59.51 0 1.02-.2 1.41-.59l7.78-7.78 2.81-2.81c.8-.78.8-2.07 0-2.86zM5.41 20L4 18.59l7.72-7.72 1.47 1.35L5.41 20z\"/>\n",
              "  </svg>\n",
              "      </button>\n",
              "      \n",
              "  <style>\n",
              "    .colab-df-container {\n",
              "      display:flex;\n",
              "      flex-wrap:wrap;\n",
              "      gap: 12px;\n",
              "    }\n",
              "\n",
              "    .colab-df-convert {\n",
              "      background-color: #E8F0FE;\n",
              "      border: none;\n",
              "      border-radius: 50%;\n",
              "      cursor: pointer;\n",
              "      display: none;\n",
              "      fill: #1967D2;\n",
              "      height: 32px;\n",
              "      padding: 0 0 0 0;\n",
              "      width: 32px;\n",
              "    }\n",
              "\n",
              "    .colab-df-convert:hover {\n",
              "      background-color: #E2EBFA;\n",
              "      box-shadow: 0px 1px 2px rgba(60, 64, 67, 0.3), 0px 1px 3px 1px rgba(60, 64, 67, 0.15);\n",
              "      fill: #174EA6;\n",
              "    }\n",
              "\n",
              "    [theme=dark] .colab-df-convert {\n",
              "      background-color: #3B4455;\n",
              "      fill: #D2E3FC;\n",
              "    }\n",
              "\n",
              "    [theme=dark] .colab-df-convert:hover {\n",
              "      background-color: #434B5C;\n",
              "      box-shadow: 0px 1px 3px 1px rgba(0, 0, 0, 0.15);\n",
              "      filter: drop-shadow(0px 1px 2px rgba(0, 0, 0, 0.3));\n",
              "      fill: #FFFFFF;\n",
              "    }\n",
              "  </style>\n",
              "\n",
              "      <script>\n",
              "        const buttonEl =\n",
              "          document.querySelector('#df-66a55a19-65fc-402c-a2b6-111b9aed0ce1 button.colab-df-convert');\n",
              "        buttonEl.style.display =\n",
              "          google.colab.kernel.accessAllowed ? 'block' : 'none';\n",
              "\n",
              "        async function convertToInteractive(key) {\n",
              "          const element = document.querySelector('#df-66a55a19-65fc-402c-a2b6-111b9aed0ce1');\n",
              "          const dataTable =\n",
              "            await google.colab.kernel.invokeFunction('convertToInteractive',\n",
              "                                                     [key], {});\n",
              "          if (!dataTable) return;\n",
              "\n",
              "          const docLinkHtml = 'Like what you see? Visit the ' +\n",
              "            '<a target=\"_blank\" href=https://colab.research.google.com/notebooks/data_table.ipynb>data table notebook</a>'\n",
              "            + ' to learn more about interactive tables.';\n",
              "          element.innerHTML = '';\n",
              "          dataTable['output_type'] = 'display_data';\n",
              "          await google.colab.output.renderOutput(dataTable, element);\n",
              "          const docLink = document.createElement('div');\n",
              "          docLink.innerHTML = docLinkHtml;\n",
              "          element.appendChild(docLink);\n",
              "        }\n",
              "      </script>\n",
              "    </div>\n",
              "  </div>\n",
              "  "
            ]
          },
          "metadata": {},
          "execution_count": 88
        }
      ]
    },
    {
      "cell_type": "code",
      "source": [
        "forecast_Value=900\n",
        "train = df2.Close[:forecast_Value]\n",
        "test = df2.Close[forecast_Value:1200]"
      ],
      "metadata": {
        "id": "PoWXUlIZC6_x"
      },
      "execution_count": null,
      "outputs": []
    },
    {
      "cell_type": "code",
      "source": [
        "print(\"Length of train data is:\",len(train))\n",
        "print(\"Length of test data is:\",len(test))"
      ],
      "metadata": {
        "colab": {
          "base_uri": "https://localhost:8080/"
        },
        "id": "nBrDcME0X1em",
        "outputId": "29178b50-e18e-440f-963e-e1dc2342139a"
      },
      "execution_count": null,
      "outputs": [
        {
          "output_type": "stream",
          "name": "stdout",
          "text": [
            "Length of train data is: 900\n",
            "Length of test data is: 300\n"
          ]
        }
      ]
    },
    {
      "cell_type": "code",
      "source": [
        "train.head()"
      ],
      "metadata": {
        "colab": {
          "base_uri": "https://localhost:8080/"
        },
        "id": "Y7SdLQcrDNeL",
        "outputId": "68cc79b9-23a1-41d8-9859-2f6321dd670c"
      },
      "execution_count": null,
      "outputs": [
        {
          "output_type": "execute_result",
          "data": {
            "text/plain": [
              "Date\n",
              "2018-06-29    46.277500\n",
              "2018-07-02    46.794998\n",
              "2018-07-03    45.980000\n",
              "2018-07-05    46.349998\n",
              "2018-07-06    46.992500\n",
              "Name: Close, dtype: float64"
            ]
          },
          "metadata": {},
          "execution_count": 91
        }
      ]
    },
    {
      "cell_type": "code",
      "source": [
        "test.tail()"
      ],
      "metadata": {
        "colab": {
          "base_uri": "https://localhost:8080/"
        },
        "id": "FVXJo2OQDQFp",
        "outputId": "00e32451-6d09-4b6c-a5d1-96157cb5627f"
      },
      "execution_count": null,
      "outputs": [
        {
          "output_type": "execute_result",
          "data": {
            "text/plain": [
              "Date\n",
              "2023-03-30    162.360001\n",
              "2023-03-31    164.899994\n",
              "2023-04-03    166.169998\n",
              "2023-04-04    165.630005\n",
              "2023-04-05    163.759995\n",
              "Name: Close, dtype: float64"
            ]
          },
          "metadata": {},
          "execution_count": 92
        }
      ]
    },
    {
      "cell_type": "markdown",
      "source": [
        "#**ARIMA**"
      ],
      "metadata": {
        "id": "YQMmMvqrXzCd"
      }
    },
    {
      "cell_type": "code",
      "source": [
        "import warnings\n",
        "from pandas import read_csv\n",
        "from statsmodels.tsa.arima_model import ARIMA\n",
        "import statsmodels.api as sm"
      ],
      "metadata": {
        "id": "rmFu-zqXax1I"
      },
      "execution_count": null,
      "outputs": []
    },
    {
      "cell_type": "code",
      "source": [
        "\n",
        "def get_scores(original,predicted,model_name):\n",
        "\n",
        "    model_scores = {}\n",
        "\n",
        "    rmse = np.sqrt(mean_squared_error(original, predicted))\n",
        "    mae = mean_absolute_error(original, predicted)\n",
        "    r2 = r2_score(original,predicted)\n",
        "    model_scores[str(model_name)] = [rmse, mae, r2]\n",
        "\n",
        "    print(f\"RMSE: {rmse}\")\n",
        "    print(f\"MAE: {mae}\")\n",
        "    print(f\"R2 Score: {r2}\")\n",
        "    return model_scores"
      ],
      "metadata": {
        "id": "7QqtFlbHEFHW"
      },
      "execution_count": null,
      "outputs": []
    },
    {
      "cell_type": "code",
      "source": [
        " from statsmodels.tsa.arima.model import ARIMA\n",
        "\n",
        "# 1,0,2 ARIMA Model\n",
        "model = ARIMA(df2['Close'], order=(1,0,2))\n",
        "model_fit = model.fit()\n",
        "print(model_fit.summary())"
      ],
      "metadata": {
        "colab": {
          "base_uri": "https://localhost:8080/"
        },
        "id": "I-asFeq5EO9e",
        "outputId": "7d6cfa80-f3ed-4530-deb0-45ebced0d019"
      },
      "execution_count": null,
      "outputs": [
        {
          "output_type": "stream",
          "name": "stdout",
          "text": [
            "                               SARIMAX Results                                \n",
            "==============================================================================\n",
            "Dep. Variable:                  Close   No. Observations:                 1200\n",
            "Model:                 ARIMA(1, 0, 2)   Log Likelihood               -2718.308\n",
            "Date:                Thu, 27 Apr 2023   AIC                           5446.616\n",
            "Time:                        10:13:35   BIC                           5472.067\n",
            "Sample:                             0   HQIC                          5456.203\n",
            "                               - 1200                                         \n",
            "Covariance Type:                  opg                                         \n",
            "==============================================================================\n",
            "                 coef    std err          z      P>|z|      [0.025      0.975]\n",
            "------------------------------------------------------------------------------\n",
            "const        106.3192     39.333      2.703      0.007      29.227     183.411\n",
            "ar.L1          0.9992      0.001    706.460      0.000       0.996       1.002\n",
            "ma.L1         -0.0564      0.022     -2.615      0.009      -0.099      -0.014\n",
            "ma.L2         -0.0278      0.022     -1.266      0.206      -0.071       0.015\n",
            "sigma2         5.4056      0.144     37.653      0.000       5.124       5.687\n",
            "===================================================================================\n",
            "Ljung-Box (L1) (Q):                   0.00   Jarque-Bera (JB):               423.24\n",
            "Prob(Q):                              0.94   Prob(JB):                         0.00\n",
            "Heteroskedasticity (H):              11.06   Skew:                            -0.04\n",
            "Prob(H) (two-sided):                  0.00   Kurtosis:                         5.91\n",
            "===================================================================================\n",
            "\n",
            "Warnings:\n",
            "[1] Covariance matrix calculated using the outer product of gradients (complex-step).\n"
          ]
        }
      ]
    },
    {
      "cell_type": "code",
      "source": [
        " from statsmodels.tsa.arima.model import ARIMA\n",
        "\n",
        "# 1,0,2 ARIMA Model\n",
        "model = ARIMA(df2['Close'], order=(0,1,2))\n",
        "model_fit = model.fit()\n",
        "print(model_fit.summary())"
      ],
      "metadata": {
        "colab": {
          "base_uri": "https://localhost:8080/"
        },
        "id": "1GqRfEMYEi3z",
        "outputId": "1251daa2-7eb9-44d8-e981-89ded25927e7"
      },
      "execution_count": null,
      "outputs": [
        {
          "output_type": "stream",
          "name": "stdout",
          "text": [
            "                               SARIMAX Results                                \n",
            "==============================================================================\n",
            "Dep. Variable:                  Close   No. Observations:                 1200\n",
            "Model:                 ARIMA(0, 1, 2)   Log Likelihood               -2713.113\n",
            "Date:                Thu, 27 Apr 2023   AIC                           5432.226\n",
            "Time:                        10:13:35   BIC                           5447.493\n",
            "Sample:                             0   HQIC                          5437.977\n",
            "                               - 1200                                         \n",
            "Covariance Type:                  opg                                         \n",
            "==============================================================================\n",
            "                 coef    std err          z      P>|z|      [0.025      0.975]\n",
            "------------------------------------------------------------------------------\n",
            "ma.L1         -0.0570      0.021     -2.652      0.008      -0.099      -0.015\n",
            "ma.L2         -0.0283      0.022     -1.299      0.194      -0.071       0.014\n",
            "sigma2         5.4072      0.144     37.642      0.000       5.126       5.689\n",
            "===================================================================================\n",
            "Ljung-Box (L1) (Q):                   0.00   Jarque-Bera (JB):               425.40\n",
            "Prob(Q):                              0.96   Prob(JB):                         0.00\n",
            "Heteroskedasticity (H):              11.22   Skew:                            -0.07\n",
            "Prob(H) (two-sided):                  0.00   Kurtosis:                         5.91\n",
            "===================================================================================\n",
            "\n",
            "Warnings:\n",
            "[1] Covariance matrix calculated using the outer product of gradients (complex-step).\n"
          ]
        }
      ]
    },
    {
      "cell_type": "code",
      "source": [
        "# Plot residual errors\n",
        "residuals = pd.DataFrame(model_fit.resid)\n",
        "fig, ax = plt.subplots(1,2)\n",
        "residuals.plot(title=\"Residuals\", ax=ax[0])\n",
        "residuals.plot(kind='kde', title='Density', ax=ax[1])\n",
        "plt.show()"
      ],
      "metadata": {
        "colab": {
          "base_uri": "https://localhost:8080/",
          "height": 448
        },
        "id": "rz_edapuEpf6",
        "outputId": "d60d6685-928d-46f1-a2df-36ca9139eb47"
      },
      "execution_count": null,
      "outputs": [
        {
          "output_type": "display_data",
          "data": {
            "text/plain": [
              "<Figure size 640x480 with 2 Axes>"
            ],
            "image/png": "[encoded data removed]"
          },
          "metadata": {}
        }
      ]
    },
    {
      "cell_type": "code",
      "source": [
        "# Actual vs Fitted\n",
        "from statsmodels.graphics.tsaplots import plot_predict\n",
        "plot_predict(model_fit,dynamic=False,alpha=0.05)\n",
        "plt.show()"
      ],
      "metadata": {
        "colab": {
          "base_uri": "https://localhost:8080/",
          "height": 426
        },
        "id": "XfapKXi1Pw7o",
        "outputId": "e46aa939-7a29-457c-bc3e-6d55da7b2645"
      },
      "execution_count": null,
      "outputs": [
        {
          "output_type": "display_data",
          "data": {
            "text/plain": [
              "<Figure size 640x480 with 1 Axes>"
            ],
            "image/png": "[encoded data removed]"
          },
          "metadata": {}
        }
      ]
    },
    {
      "cell_type": "code",
      "source": [
        "model = ARIMA(train, order=(0, 1, 2))\n",
        "fitted = model.fit()\n",
        "\n",
        "y_pred = fitted.get_forecast(len(test.index))\n",
        "y_pred_df = y_pred.conf_int(alpha = 0.05)\n",
        "y_pred_df[\"Predictions\"] = fitted.predict(start = y_pred_df.index[0], end = y_pred_df.index[-1])\n",
        "y_pred_df.index = test.index\n",
        "y_pred_out = y_pred_df[\"Predictions\"]\n",
        "\n",
        "plt.plot(train, color = \"black\")\n",
        "plt.plot(test, color = \"red\")\n",
        "plt.ylabel('Price')\n",
        "plt.xlabel('Date')\n",
        "plt.xticks(rotation=45)\n",
        "plt.title(\"Forcast\")\n",
        "\n",
        "\n",
        "plt.plot(y_pred_out, color='green', label = 'Predictions')\n",
        "plt.legend()\n",
        "plt.show()"
      ],
      "metadata": {
        "colab": {
          "base_uri": "https://localhost:8080/",
          "height": 497
        },
        "id": "2I9NQASTP85g",
        "outputId": "2ec3a201-afb4-45ea-9b3c-ad0642a522f8"
      },
      "execution_count": null,
      "outputs": [
        {
          "output_type": "display_data",
          "data": {
            "text/plain": [
              "<Figure size 640x480 with 1 Axes>"
            ],
            "image/png": "[encoded data removed]"
          },
          "metadata": {}
        }
      ]
    },
    {
      "cell_type": "code",
      "source": [
        "\n",
        "def get_scores(original,predicted,model_name):\n",
        "\n",
        "    model_scores = {}\n",
        "\n",
        "    rmse = np.sqrt(mean_squared_error(original, predicted))\n",
        "    mae = mean_absolute_error(original, predicted)\n",
        "    r2 = r2_score(original,predicted)\n",
        "    model_scores[str(model_name)] = [rmse, mae, r2]\n",
        "\n",
        "    print(f\"RMSE: {rmse}\")\n",
        "    print(f\"MAE: {mae}\")\n",
        "    print(f\"R2 Score: {r2}\")\n",
        "    return model_scores"
      ],
      "metadata": {
        "id": "vN9ExiCWMyXU"
      },
      "execution_count": null,
      "outputs": []
    },
    {
      "cell_type": "code",
      "source": [
        "ar=get_scores(test,y_pred_out,\"ARIMA\")"
      ],
      "metadata": {
        "colab": {
          "base_uri": "https://localhost:8080/"
        },
        "id": "u_0tpDynQFRd",
        "outputId": "632a23e2-2829-4564-da3a-ce8699f95333"
      },
      "execution_count": null,
      "outputs": [
        {
          "output_type": "stream",
          "name": "stdout",
          "text": [
            "RMSE: 14.343434425425585\n",
            "MAE: 12.039457601786513\n",
            "R2 Score: -0.34673551889223364\n"
          ]
        }
      ]
    },
    {
      "cell_type": "code",
      "source": [
        "pip install pmdarima"
      ],
      "metadata": {
        "colab": {
          "base_uri": "https://localhost:8080/"
        },
        "id": "8k63I5fyNXo6",
        "outputId": "6510e926-a51c-4f32-b962-2fd30c4a0ade"
      },
      "execution_count": null,
      "outputs": [
        {
          "output_type": "stream",
          "name": "stdout",
          "text": [
            "Looking in indexes: https://pypi.org/simple, https://us-python.pkg.dev/colab-wheels/public/simple/\n",
            "Collecting pmdarima\n",
            "  Downloading pmdarima-2.0.3-cp39-cp39-manylinux_2_17_x86_64.manylinux2014_x86_64.manylinux_2_28_x86_64.whl (1.9 MB)\n",
            "\u001b[2K     \u001b[90m━━━━━━━━━━━━━━━━━━━━━━━━━━━━━━━━━━━━━━━━\u001b[0m \u001b[32m1.9/1.9 MB\u001b[0m \u001b[31m17.0 MB/s\u001b[0m eta \u001b[36m0:00:00\u001b[0m\n",
            "\u001b[?25hRequirement already satisfied: scipy>=1.3.2 in /usr/local/lib/python3.9/dist-packages (from pmdarima) (1.10.1)\n",
            "Requirement already satisfied: urllib3 in /usr/local/lib/python3.9/dist-packages (from pmdarima) (1.26.15)\n",
            "Requirement already satisfied: joblib>=0.11 in /usr/local/lib/python3.9/dist-packages (from pmdarima) (1.2.0)\n",
            "Requirement already satisfied: Cython!=0.29.18,!=0.29.31,>=0.29 in /usr/local/lib/python3.9/dist-packages (from pmdarima) (0.29.34)\n",
            "Requirement already satisfied: numpy>=1.21.2 in /usr/local/lib/python3.9/dist-packages (from pmdarima) (1.22.4)\n",
            "Requirement already satisfied: setuptools!=50.0.0,>=38.6.0 in /usr/local/lib/python3.9/dist-packages (from pmdarima) (67.7.2)\n",
            "Requirement already satisfied: statsmodels>=0.13.2 in /usr/local/lib/python3.9/dist-packages (from pmdarima) (0.13.5)\n",
            "Requirement already satisfied: scikit-learn>=0.22 in /usr/local/lib/python3.9/dist-packages (from pmdarima) (1.2.2)\n",
            "Requirement already satisfied: pandas>=0.19 in /usr/local/lib/python3.9/dist-packages (from pmdarima) (1.5.3)\n",
            "Requirement already satisfied: pytz>=2020.1 in /usr/local/lib/python3.9/dist-packages (from pandas>=0.19->pmdarima) (2022.7.1)\n",
            "Requirement already satisfied: python-dateutil>=2.8.1 in /usr/local/lib/python3.9/dist-packages (from pandas>=0.19->pmdarima) (2.8.2)\n",
            "Requirement already satisfied: threadpoolctl>=2.0.0 in /usr/local/lib/python3.9/dist-packages (from scikit-learn>=0.22->pmdarima) (3.1.0)\n",
            "Requirement already satisfied: patsy>=0.5.2 in /usr/local/lib/python3.9/dist-packages (from statsmodels>=0.13.2->pmdarima) (0.5.3)\n",
            "Requirement already satisfied: packaging>=21.3 in /usr/local/lib/python3.9/dist-packages (from statsmodels>=0.13.2->pmdarima) (23.1)\n",
            "Requirement already satisfied: six in /usr/local/lib/python3.9/dist-packages (from patsy>=0.5.2->statsmodels>=0.13.2->pmdarima) (1.16.0)\n",
            "Installing collected packages: pmdarima\n",
            "Successfully installed pmdarima-2.0.3\n"
          ]
        }
      ]
    },
    {
      "cell_type": "code",
      "source": [
        "import pmdarima as pm\n",
        "model = pm.auto_arima(df2[\"Close\"], start_p=1, start_q=1,\n",
        "                      test='adf',       # use adftest to find optimal 'd'\n",
        "                      max_p=3, max_q=3, # maximum p and q\n",
        "                      m=1,              # frequency of series\n",
        "                      d=None,           # let model determine 'd'\n",
        "                      seasonal=False,   # No Seasonality\n",
        "                      start_P=0,\n",
        "                      D=0,\n",
        "                      trace=True,\n",
        "                      error_action='ignore',\n",
        "                      suppress_warnings=True,\n",
        "                      stepwise=True)\n",
        "\n",
        "print(model.summary())"
      ],
      "metadata": {
        "colab": {
          "base_uri": "https://localhost:8080/"
        },
        "id": "9l4pPbVcNbRQ",
        "outputId": "555bd70a-15bc-490e-b3d1-53a626bbd202"
      },
      "execution_count": null,
      "outputs": [
        {
          "output_type": "stream",
          "name": "stdout",
          "text": [
            "Performing stepwise search to minimize aic\n",
            " ARIMA(1,1,1)(0,0,0)[0] intercept   : AIC=5431.441, Time=2.85 sec\n",
            " ARIMA(0,1,0)(0,0,0)[0] intercept   : AIC=5432.790, Time=0.15 sec\n",
            " ARIMA(1,1,0)(0,0,0)[0] intercept   : AIC=5431.034, Time=0.35 sec\n",
            " ARIMA(0,1,1)(0,0,0)[0] intercept   : AIC=5430.788, Time=0.56 sec\n",
            " ARIMA(0,1,0)(0,0,0)[0]             : AIC=5432.912, Time=0.11 sec\n",
            " ARIMA(0,1,2)(0,0,0)[0] intercept   : AIC=5431.658, Time=1.04 sec\n",
            " ARIMA(1,1,2)(0,0,0)[0] intercept   : AIC=5433.342, Time=2.49 sec\n",
            " ARIMA(0,1,1)(0,0,0)[0]             : AIC=5431.194, Time=0.45 sec\n",
            "\n",
            "Best model:  ARIMA(0,1,1)(0,0,0)[0] intercept\n",
            "Total fit time: 8.105 seconds\n",
            "                               SARIMAX Results                                \n",
            "==============================================================================\n",
            "Dep. Variable:                      y   No. Observations:                 1200\n",
            "Model:               SARIMAX(0, 1, 1)   Log Likelihood               -2712.394\n",
            "Date:                Thu, 27 Apr 2023   AIC                           5430.788\n",
            "Time:                        10:16:08   BIC                           5446.055\n",
            "Sample:                             0   HQIC                          5436.539\n",
            "                               - 1200                                         \n",
            "Covariance Type:                  opg                                         \n",
            "==============================================================================\n",
            "                 coef    std err          z      P>|z|      [0.025      0.975]\n",
            "------------------------------------------------------------------------------\n",
            "intercept      0.0981      0.063      1.553      0.121      -0.026       0.222\n",
            "ma.L1         -0.0597      0.021     -2.803      0.005      -0.101      -0.018\n",
            "sigma2         5.4007      0.143     37.745      0.000       5.120       5.681\n",
            "===================================================================================\n",
            "Ljung-Box (L1) (Q):                   0.00   Jarque-Bera (JB):               422.36\n",
            "Prob(Q):                              0.95   Prob(JB):                         0.00\n",
            "Heteroskedasticity (H):              11.29   Skew:                            -0.05\n",
            "Prob(H) (two-sided):                  0.00   Kurtosis:                         5.91\n",
            "===================================================================================\n",
            "\n",
            "Warnings:\n",
            "[1] Covariance matrix calculated using the outer product of gradients (complex-step).\n"
          ]
        }
      ]
    },
    {
      "cell_type": "code",
      "source": [
        "smodel = pm.auto_arima(df2[\"Close\"], start_p=1, start_q=1,\n",
        "                         test='adf',\n",
        "                         max_p=3, max_q=3, m=12,\n",
        "                         start_P=0, seasonal=True,\n",
        "                         d=None, D=1, trace=True,\n",
        "                         error_action='ignore',\n",
        "                         suppress_warnings=True,\n",
        "                         stepwise=True)\n",
        "\n",
        "smodel.summary()"
      ],
      "metadata": {
        "colab": {
          "base_uri": "https://localhost:8080/",
          "height": 1000
        },
        "id": "XG-AsaxJNqxP",
        "outputId": "87f100e8-2b4c-4d6c-8939-fd82bf49d275"
      },
      "execution_count": null,
      "outputs": [
        {
          "output_type": "stream",
          "name": "stdout",
          "text": [
            "Performing stepwise search to minimize aic\n",
            " ARIMA(1,0,1)(0,1,1)[12] intercept   : AIC=inf, Time=15.54 sec\n",
            " ARIMA(0,0,0)(0,1,0)[12] intercept   : AIC=8162.059, Time=0.20 sec\n",
            " ARIMA(1,0,0)(1,1,0)[12] intercept   : AIC=5872.799, Time=3.69 sec\n",
            " ARIMA(0,0,1)(0,1,1)[12] intercept   : AIC=7172.843, Time=4.91 sec\n",
            " ARIMA(0,0,0)(0,1,0)[12]             : AIC=8187.838, Time=0.11 sec\n",
            " ARIMA(1,0,0)(0,1,0)[12] intercept   : AIC=6173.303, Time=0.29 sec\n",
            " ARIMA(1,0,0)(2,1,0)[12] intercept   : AIC=5713.034, Time=7.09 sec\n",
            " ARIMA(1,0,0)(2,1,1)[12] intercept   : AIC=inf, Time=16.32 sec\n",
            " ARIMA(1,0,0)(1,1,1)[12] intercept   : AIC=inf, Time=12.05 sec\n",
            " ARIMA(0,0,0)(2,1,0)[12] intercept   : AIC=8153.756, Time=7.20 sec\n",
            " ARIMA(2,0,0)(2,1,0)[12] intercept   : AIC=5712.632, Time=10.26 sec\n",
            " ARIMA(2,0,0)(1,1,0)[12] intercept   : AIC=5872.451, Time=3.76 sec\n",
            " ARIMA(2,0,0)(2,1,1)[12] intercept   : AIC=inf, Time=31.95 sec\n",
            " ARIMA(2,0,0)(1,1,1)[12] intercept   : AIC=inf, Time=13.50 sec\n",
            " ARIMA(3,0,0)(2,1,0)[12] intercept   : AIC=5714.417, Time=13.74 sec\n",
            " ARIMA(2,0,1)(2,1,0)[12] intercept   : AIC=inf, Time=38.99 sec\n",
            " ARIMA(1,0,1)(2,1,0)[12] intercept   : AIC=5712.571, Time=14.68 sec\n",
            " ARIMA(1,0,1)(1,1,0)[12] intercept   : AIC=5872.613, Time=8.71 sec\n",
            " ARIMA(1,0,1)(2,1,1)[12] intercept   : AIC=inf, Time=33.23 sec\n",
            " ARIMA(1,0,1)(1,1,1)[12] intercept   : AIC=inf, Time=7.65 sec\n",
            " ARIMA(0,0,1)(2,1,0)[12] intercept   : AIC=7161.440, Time=6.99 sec\n",
            " ARIMA(1,0,2)(2,1,0)[12] intercept   : AIC=5714.456, Time=12.22 sec\n",
            " ARIMA(0,0,2)(2,1,0)[12] intercept   : AIC=6678.663, Time=13.80 sec\n",
            " ARIMA(2,0,2)(2,1,0)[12] intercept   : AIC=5702.969, Time=34.23 sec\n",
            " ARIMA(2,0,2)(1,1,0)[12] intercept   : AIC=5863.481, Time=15.04 sec\n",
            " ARIMA(2,0,2)(2,1,1)[12] intercept   : AIC=inf, Time=42.06 sec\n",
            " ARIMA(2,0,2)(1,1,1)[12] intercept   : AIC=inf, Time=18.40 sec\n",
            " ARIMA(3,0,2)(2,1,0)[12] intercept   : AIC=inf, Time=43.29 sec\n",
            " ARIMA(2,0,3)(2,1,0)[12] intercept   : AIC=5701.690, Time=37.88 sec\n",
            " ARIMA(2,0,3)(1,1,0)[12] intercept   : AIC=5876.700, Time=12.18 sec\n",
            " ARIMA(2,0,3)(2,1,1)[12] intercept   : AIC=inf, Time=40.81 sec\n",
            " ARIMA(2,0,3)(1,1,1)[12] intercept   : AIC=inf, Time=21.67 sec\n",
            " ARIMA(1,0,3)(2,1,0)[12] intercept   : AIC=5716.218, Time=13.47 sec\n",
            " ARIMA(3,0,3)(2,1,0)[12] intercept   : AIC=inf, Time=46.62 sec\n",
            " ARIMA(2,0,3)(2,1,0)[12]             : AIC=5703.778, Time=12.14 sec\n",
            "\n",
            "Best model:  ARIMA(2,0,3)(2,1,0)[12] intercept\n",
            "Total fit time: 614.764 seconds\n"
          ]
        },
        {
          "output_type": "execute_result",
          "data": {
            "text/plain": [
              "<class 'statsmodels.iolib.summary.Summary'>\n",
              "\"\"\"\n",
              "                                      SARIMAX Results                                      \n",
              "===========================================================================================\n",
              "Dep. Variable:                                   y   No. Observations:                 1200\n",
              "Model:             SARIMAX(2, 0, 3)x(2, 1, [], 12)   Log Likelihood               -2841.845\n",
              "Date:                             Thu, 27 Apr 2023   AIC                           5701.690\n",
              "Time:                                     10:26:49   BIC                           5747.410\n",
              "Sample:                                          0   HQIC                          5718.921\n",
              "                                            - 1200                                         \n",
              "Covariance Type:                               opg                                         \n",
              "==============================================================================\n",
              "                 coef    std err          z      P>|z|      [0.025      0.975]\n",
              "------------------------------------------------------------------------------\n",
              "intercept      0.0093      0.005      1.952      0.051   -3.76e-05       0.019\n",
              "ar.L1          1.9388      0.018    108.688      0.000       1.904       1.974\n",
              "ar.L2         -0.9430      0.017    -55.624      0.000      -0.976      -0.910\n",
              "ma.L1         -1.0414      0.027    -38.696      0.000      -1.094      -0.989\n",
              "ma.L2          0.0409      0.032      1.267      0.205      -0.022       0.104\n",
              "ma.L3          0.0549      0.025      2.241      0.025       0.007       0.103\n",
              "ar.S.L12      -0.6724      0.022    -31.002      0.000      -0.715      -0.630\n",
              "ar.S.L24      -0.3678      0.024    -15.532      0.000      -0.414      -0.321\n",
              "sigma2         6.9404      0.198     34.973      0.000       6.551       7.329\n",
              "===================================================================================\n",
              "Ljung-Box (L1) (Q):                   0.02   Jarque-Bera (JB):               298.19\n",
              "Prob(Q):                              0.89   Prob(JB):                         0.00\n",
              "Heteroskedasticity (H):              10.67   Skew:                            -0.10\n",
              "Prob(H) (two-sided):                  0.00   Kurtosis:                         5.45\n",
              "===================================================================================\n",
              "\n",
              "Warnings:\n",
              "[1] Covariance matrix calculated using the outer product of gradients (complex-step).\n",
              "\"\"\""
            ],
            "text/html": [
              "<table class=\"simpletable\">\n",
              "<caption>SARIMAX Results</caption>\n",
              "<tr>\n",
              "  <th>Dep. Variable:</th>                  <td>y</td>                <th>  No. Observations:  </th>   <td>1200</td>   \n",
              "</tr>\n",
              "<tr>\n",
              "  <th>Model:</th>           <td>SARIMAX(2, 0, 3)x(2, 1, [], 12)</td> <th>  Log Likelihood     </th> <td>-2841.845</td>\n",
              "</tr>\n",
              "<tr>\n",
              "  <th>Date:</th>                   <td>Thu, 27 Apr 2023</td>         <th>  AIC                </th> <td>5701.690</td> \n",
              "</tr>\n",
              "<tr>\n",
              "  <th>Time:</th>                       <td>10:26:49</td>             <th>  BIC                </th> <td>5747.410</td> \n",
              "</tr>\n",
              "<tr>\n",
              "  <th>Sample:</th>                         <td>0</td>                <th>  HQIC               </th> <td>5718.921</td> \n",
              "</tr>\n",
              "<tr>\n",
              "  <th></th>                             <td> - 1200</td>             <th>                     </th>     <td> </td>    \n",
              "</tr>\n",
              "<tr>\n",
              "  <th>Covariance Type:</th>               <td>opg</td>               <th>                     </th>     <td> </td>    \n",
              "</tr>\n",
              "</table>\n",
              "<table class=\"simpletable\">\n",
              "<tr>\n",
              "      <td></td>         <th>coef</th>     <th>std err</th>      <th>z</th>      <th>P>|z|</th>  <th>[0.025</th>    <th>0.975]</th>  \n",
              "</tr>\n",
              "<tr>\n",
              "  <th>intercept</th> <td>    0.0093</td> <td>    0.005</td> <td>    1.952</td> <td> 0.051</td> <td>-3.76e-05</td> <td>    0.019</td>\n",
              "</tr>\n",
              "<tr>\n",
              "  <th>ar.L1</th>     <td>    1.9388</td> <td>    0.018</td> <td>  108.688</td> <td> 0.000</td> <td>    1.904</td> <td>    1.974</td>\n",
              "</tr>\n",
              "<tr>\n",
              "  <th>ar.L2</th>     <td>   -0.9430</td> <td>    0.017</td> <td>  -55.624</td> <td> 0.000</td> <td>   -0.976</td> <td>   -0.910</td>\n",
              "</tr>\n",
              "<tr>\n",
              "  <th>ma.L1</th>     <td>   -1.0414</td> <td>    0.027</td> <td>  -38.696</td> <td> 0.000</td> <td>   -1.094</td> <td>   -0.989</td>\n",
              "</tr>\n",
              "<tr>\n",
              "  <th>ma.L2</th>     <td>    0.0409</td> <td>    0.032</td> <td>    1.267</td> <td> 0.205</td> <td>   -0.022</td> <td>    0.104</td>\n",
              "</tr>\n",
              "<tr>\n",
              "  <th>ma.L3</th>     <td>    0.0549</td> <td>    0.025</td> <td>    2.241</td> <td> 0.025</td> <td>    0.007</td> <td>    0.103</td>\n",
              "</tr>\n",
              "<tr>\n",
              "  <th>ar.S.L12</th>  <td>   -0.6724</td> <td>    0.022</td> <td>  -31.002</td> <td> 0.000</td> <td>   -0.715</td> <td>   -0.630</td>\n",
              "</tr>\n",
              "<tr>\n",
              "  <th>ar.S.L24</th>  <td>   -0.3678</td> <td>    0.024</td> <td>  -15.532</td> <td> 0.000</td> <td>   -0.414</td> <td>   -0.321</td>\n",
              "</tr>\n",
              "<tr>\n",
              "  <th>sigma2</th>    <td>    6.9404</td> <td>    0.198</td> <td>   34.973</td> <td> 0.000</td> <td>    6.551</td> <td>    7.329</td>\n",
              "</tr>\n",
              "</table>\n",
              "<table class=\"simpletable\">\n",
              "<tr>\n",
              "  <th>Ljung-Box (L1) (Q):</th>     <td>0.02</td>  <th>  Jarque-Bera (JB):  </th> <td>298.19</td>\n",
              "</tr>\n",
              "<tr>\n",
              "  <th>Prob(Q):</th>                <td>0.89</td>  <th>  Prob(JB):          </th>  <td>0.00</td> \n",
              "</tr>\n",
              "<tr>\n",
              "  <th>Heteroskedasticity (H):</th> <td>10.67</td> <th>  Skew:              </th>  <td>-0.10</td>\n",
              "</tr>\n",
              "<tr>\n",
              "  <th>Prob(H) (two-sided):</th>    <td>0.00</td>  <th>  Kurtosis:          </th>  <td>5.45</td> \n",
              "</tr>\n",
              "</table><br/><br/>Warnings:<br/>[1] Covariance matrix calculated using the outer product of gradients (complex-step)."
            ]
          },
          "metadata": {},
          "execution_count": 106
        }
      ]
    },
    {
      "cell_type": "code",
      "source": [
        "from statsmodels.tsa.statespace.sarimax import SARIMAX\n",
        "SARIMAXmodel = SARIMAX(test, order = (1, 0, 2), seasonal_order=(2,1,0,12))\n",
        "SARIMAXmodel = SARIMAXmodel.fit()\n",
        "\n",
        "y_pred = SARIMAXmodel.get_forecast(len(test.index))\n",
        "y_pred_df = y_pred.conf_int(alpha = 0.05)\n",
        "y_pred_df[\"Predictions\"] = SARIMAXmodel.predict(start = y_pred_df.index[0], end = y_pred_df.index[-1])\n",
        "y_pred_df.index = test.index\n",
        "y_pred_out = y_pred_df[\"Predictions\"]\n",
        "\n",
        "plt.plot(train, color = \"black\",label = 'train')\n",
        "plt.plot(test, color = \"red\", label = 'Actual')\n",
        "plt.ylabel('Price')\n",
        "plt.xlabel('Date')\n",
        "plt.xticks(rotation=45)\n",
        "plt.title(\"Forcast\")\n",
        "plt.legend()\n",
        "plt.show()\n",
        "\n",
        "plt.plot(train, color = \"black\",label = 'train')\n",
        "plt.plot(y_pred_out, color = \"green\", label = 'predicted')\n",
        "plt.ylabel('Price')\n",
        "plt.xlabel('Date')\n",
        "plt.xticks(rotation=45)\n",
        "plt.title(\"Forcast\")\n",
        "plt.legend()\n",
        "plt.show()"
      ],
      "metadata": {
        "colab": {
          "base_uri": "https://localhost:8080/",
          "height": 977
        },
        "id": "UtjrbVqENxZH",
        "outputId": "a54d8700-025b-4e57-f33d-b7facc368494"
      },
      "execution_count": null,
      "outputs": [
        {
          "output_type": "display_data",
          "data": {
            "text/plain": [
              "<Figure size 640x480 with 1 Axes>"
            ],
            "image/png": "[encoded data removed]"
          },
          "metadata": {}
        },
        {
          "output_type": "display_data",
          "data": {
            "text/plain": [
              "<Figure size 640x480 with 1 Axes>"
            ],
            "image/png": "[encoded data removed]"
          },
          "metadata": {}
        }
      ]
    },
    {
      "cell_type": "code",
      "source": [
        "sx=get_scores(test,y_pred_out,\"SARIMAx\")"
      ],
      "metadata": {
        "colab": {
          "base_uri": "https://localhost:8080/"
        },
        "id": "GVTrp7wcOb0p",
        "outputId": "146410de-b0ba-459a-82a3-0691194a39cb"
      },
      "execution_count": null,
      "outputs": [
        {
          "output_type": "stream",
          "name": "stdout",
          "text": [
            "RMSE: 19.082063008958954\n",
            "MAE: 16.129835267876405\n",
            "R2 Score: -1.3835631410391591\n"
          ]
        }
      ]
    },
    {
      "cell_type": "code",
      "source": [
        "merge={**ar,**sx}\n",
        "print(merge)"
      ],
      "metadata": {
        "colab": {
          "base_uri": "https://localhost:8080/"
        },
        "id": "x6Ygz9rUOd_G",
        "outputId": "1b17406d-0b54-4153-c21d-7ab5ebb0822e"
      },
      "execution_count": null,
      "outputs": [
        {
          "output_type": "stream",
          "name": "stdout",
          "text": [
            "{'ARIMA': [14.343434425425585, 12.039457601786513, -0.34673551889223364], 'SARIMAx': [19.082063008958954, 16.129835267876405, -1.3835631410391591]}\n"
          ]
        }
      ]
    },
    {
      "cell_type": "code",
      "source": [
        "model_scores_df=pd.DataFrame(merge,index=[\"RMSE\",\"MAE\",\"R2_SCORE\"])\n",
        "model_scores_df[:2].T"
      ],
      "metadata": {
        "colab": {
          "base_uri": "https://localhost:8080/",
          "height": 112
        },
        "id": "RGu5GxZUOf-0",
        "outputId": "45ed9e67-ecd9-4861-a5ba-b3e242b6f3b0"
      },
      "execution_count": null,
      "outputs": [
        {
          "output_type": "execute_result",
          "data": {
            "text/plain": [
              "              RMSE        MAE\n",
              "ARIMA    14.343434  12.039458\n",
              "SARIMAx  19.082063  16.129835"
            ],
            "text/html": [
              "\n",
              "  <div id=\"df-b84080b8-876f-4abe-87d7-c246c5a7b27c\">\n",
              "    <div class=\"colab-df-container\">\n",
              "      <div>\n",
              "<style scoped>\n",
              "    .dataframe tbody tr th:only-of-type {\n",
              "        vertical-align: middle;\n",
              "    }\n",
              "\n",
              "    .dataframe tbody tr th {\n",
              "        vertical-align: top;\n",
              "    }\n",
              "\n",
              "    .dataframe thead th {\n",
              "        text-align: right;\n",
              "    }\n",
              "</style>\n",
              "<table border=\"1\" class=\"dataframe\">\n",
              "  <thead>\n",
              "    <tr style=\"text-align: right;\">\n",
              "      <th></th>\n",
              "      <th>RMSE</th>\n",
              "      <th>MAE</th>\n",
              "    </tr>\n",
              "  </thead>\n",
              "  <tbody>\n",
              "    <tr>\n",
              "      <th>ARIMA</th>\n",
              "      <td>14.343434</td>\n",
              "      <td>12.039458</td>\n",
              "    </tr>\n",
              "    <tr>\n",
              "      <th>SARIMAx</th>\n",
              "      <td>19.082063</td>\n",
              "      <td>16.129835</td>\n",
              "    </tr>\n",
              "  </tbody>\n",
              "</table>\n",
              "</div>\n",
              "      <button class=\"colab-df-convert\" onclick=\"convertToInteractive('df-b84080b8-876f-4abe-87d7-c246c5a7b27c')\"\n",
              "              title=\"Convert this dataframe to an interactive table.\"\n",
              "              style=\"display:none;\">\n",
              "        \n",
              "  <svg xmlns=\"http://www.w3.org/2000/svg\" height=\"24px\"viewBox=\"0 0 24 24\"\n",
              "       width=\"24px\">\n",
              "    <path d=\"M0 0h24v24H0V0z\" fill=\"none\"/>\n",
              "    <path d=\"M18.56 5.44l.94 2.06.94-2.06 2.06-.94-2.06-.94-.94-2.06-.94 2.06-2.06.94zm-11 1L8.5 8.5l.94-2.06 2.06-.94-2.06-.94L8.5 2.5l-.94 2.06-2.06.94zm10 10l.94 2.06.94-2.06 2.06-.94-2.06-.94-.94-2.06-.94 2.06-2.06.94z\"/><path d=\"M17.41 7.96l-1.37-1.37c-.4-.4-.92-.59-1.43-.59-.52 0-1.04.2-1.43.59L10.3 9.45l-7.72 7.72c-.78.78-.78 2.05 0 2.83L4 21.41c.39.39.9.59 1.41.59.51 0 1.02-.2 1.41-.59l7.78-7.78 2.81-2.81c.8-.78.8-2.07 0-2.86zM5.41 20L4 18.59l7.72-7.72 1.47 1.35L5.41 20z\"/>\n",
              "  </svg>\n",
              "      </button>\n",
              "      \n",
              "  <style>\n",
              "    .colab-df-container {\n",
              "      display:flex;\n",
              "      flex-wrap:wrap;\n",
              "      gap: 12px;\n",
              "    }\n",
              "\n",
              "    .colab-df-convert {\n",
              "      background-color: #E8F0FE;\n",
              "      border: none;\n",
              "      border-radius: 50%;\n",
              "      cursor: pointer;\n",
              "      display: none;\n",
              "      fill: #1967D2;\n",
              "      height: 32px;\n",
              "      padding: 0 0 0 0;\n",
              "      width: 32px;\n",
              "    }\n",
              "\n",
              "    .colab-df-convert:hover {\n",
              "      background-color: #E2EBFA;\n",
              "      box-shadow: 0px 1px 2px rgba(60, 64, 67, 0.3), 0px 1px 3px 1px rgba(60, 64, 67, 0.15);\n",
              "      fill: #174EA6;\n",
              "    }\n",
              "\n",
              "    [theme=dark] .colab-df-convert {\n",
              "      background-color: #3B4455;\n",
              "      fill: #D2E3FC;\n",
              "    }\n",
              "\n",
              "    [theme=dark] .colab-df-convert:hover {\n",
              "      background-color: #434B5C;\n",
              "      box-shadow: 0px 1px 3px 1px rgba(0, 0, 0, 0.15);\n",
              "      filter: drop-shadow(0px 1px 2px rgba(0, 0, 0, 0.3));\n",
              "      fill: #FFFFFF;\n",
              "    }\n",
              "  </style>\n",
              "\n",
              "      <script>\n",
              "        const buttonEl =\n",
              "          document.querySelector('#df-b84080b8-876f-4abe-87d7-c246c5a7b27c button.colab-df-convert');\n",
              "        buttonEl.style.display =\n",
              "          google.colab.kernel.accessAllowed ? 'block' : 'none';\n",
              "\n",
              "        async function convertToInteractive(key) {\n",
              "          const element = document.querySelector('#df-b84080b8-876f-4abe-87d7-c246c5a7b27c');\n",
              "          const dataTable =\n",
              "            await google.colab.kernel.invokeFunction('convertToInteractive',\n",
              "                                                     [key], {});\n",
              "          if (!dataTable) return;\n",
              "\n",
              "          const docLinkHtml = 'Like what you see? Visit the ' +\n",
              "            '<a target=\"_blank\" href=https://colab.research.google.com/notebooks/data_table.ipynb>data table notebook</a>'\n",
              "            + ' to learn more about interactive tables.';\n",
              "          element.innerHTML = '';\n",
              "          dataTable['output_type'] = 'display_data';\n",
              "          await google.colab.output.renderOutput(dataTable, element);\n",
              "          const docLink = document.createElement('div');\n",
              "          docLink.innerHTML = docLinkHtml;\n",
              "          element.appendChild(docLink);\n",
              "        }\n",
              "      </script>\n",
              "    </div>\n",
              "  </div>\n",
              "  "
            ]
          },
          "metadata": {},
          "execution_count": 110
        }
      ]
    },
    {
      "cell_type": "code",
      "source": [
        "model_scores_df[:2].T.plot(kind=\"barh\")"
      ],
      "metadata": {
        "colab": {
          "base_uri": "https://localhost:8080/",
          "height": 447
        },
        "id": "aeI4ldcYOkBr",
        "outputId": "14891e6f-aa8f-4dcd-f6b2-b93e6dace6ea"
      },
      "execution_count": null,
      "outputs": [
        {
          "output_type": "execute_result",
          "data": {
            "text/plain": [
              "<Axes: >"
            ]
          },
          "metadata": {},
          "execution_count": 111
        },
        {
          "output_type": "display_data",
          "data": {
            "text/plain": [
              "<Figure size 640x480 with 1 Axes>"
            ],
            "image/png": "[encoded data removed]"
          },
          "metadata": {}
        }
      ]
    },
    {
      "cell_type": "code",
      "source": [],
      "metadata": {
        "id": "By7FYAU1rmis"
      },
      "execution_count": null,
      "outputs": []
    }
  ]
}